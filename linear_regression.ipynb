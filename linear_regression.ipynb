{
 "cells": [
  {
   "cell_type": "markdown",
   "metadata": {},
   "source": [
    "### Linear Regression\n",
    "\n",
    "https://ml-explore.github.io/mlx/build/html/examples/linear_regression.html "
   ]
  },
  {
   "cell_type": "code",
   "execution_count": 1,
   "metadata": {},
   "outputs": [],
   "source": [
    "import mlx.core as mx"
   ]
  },
  {
   "cell_type": "code",
   "execution_count": 2,
   "metadata": {},
   "outputs": [],
   "source": [
    "num_features = 100\n",
    "num_examples = 1_000\n",
    "num_iters = 10_000\n",
    "lr = 0.01"
   ]
  },
  {
   "cell_type": "code",
   "execution_count": 3,
   "metadata": {},
   "outputs": [
    {
     "data": {
      "text/plain": [
       "10000"
      ]
     },
     "execution_count": 3,
     "metadata": {},
     "output_type": "execute_result"
    }
   ],
   "source": [
    "num_iters"
   ]
  },
  {
   "cell_type": "code",
   "execution_count": 4,
   "metadata": {},
   "outputs": [
    {
     "data": {
      "text/plain": [
       "array([0.763784, 0.229738, -1.4492, ..., -0.630067, -2.01804, 1.74194], dtype=float32)"
      ]
     },
     "execution_count": 4,
     "metadata": {},
     "output_type": "execute_result"
    }
   ],
   "source": [
    "w_star = mx.random.normal((num_features,))\n",
    "w_star"
   ]
  },
  {
   "cell_type": "code",
   "execution_count": 5,
   "metadata": {},
   "outputs": [
    {
     "data": {
      "text/plain": [
       "array([[1.15413, -2.7102, 2.83468, ..., 0.700319, -0.804952, -0.356944],\n",
       "       [0.334159, 1.31817, 0.265448, ..., -1.61798, -0.831394, 0.22269],\n",
       "       [0.996302, -0.255819, -0.878827, ..., 0.0608509, -0.751755, -0.595066],\n",
       "       ...,\n",
       "       [-1.83873, -1.74903, -0.379804, ..., 0.173738, 0.216501, 0.163805],\n",
       "       [-2.30933, -0.660186, -0.924396, ..., -1.18036, -0.0886265, 0.214032],\n",
       "       [-1.0345, -1.63874, -0.18425, ..., 1.12419, -0.657913, 0.273078]], dtype=float32)"
      ]
     },
     "execution_count": 5,
     "metadata": {},
     "output_type": "execute_result"
    }
   ],
   "source": [
    "X = mx.random.normal((num_examples, num_features))\n",
    "X"
   ]
  },
  {
   "cell_type": "code",
   "execution_count": 6,
   "metadata": {},
   "outputs": [
    {
     "data": {
      "text/plain": [
       "array([-5.386, 12.9725, -3.42662, ..., 2.61024, 11.6925, -18.0843], dtype=float32)"
      ]
     },
     "execution_count": 6,
     "metadata": {},
     "output_type": "execute_result"
    }
   ],
   "source": [
    "X @ w_star"
   ]
  },
  {
   "cell_type": "code",
   "execution_count": 7,
   "metadata": {},
   "outputs": [
    {
     "data": {
      "text/plain": [
       "array([-5.4078, 12.966, -3.41846, ..., 2.61307, 11.6797, -18.0883], dtype=float32)"
      ]
     },
     "execution_count": 7,
     "metadata": {},
     "output_type": "execute_result"
    }
   ],
   "source": [
    "eps = 1e-2 * mx.random.normal((num_examples,))\n",
    "y = X @ w_star + eps\n",
    "y"
   ]
  },
  {
   "cell_type": "code",
   "execution_count": 8,
   "metadata": {},
   "outputs": [],
   "source": [
    "def loss_fn(w):\n",
    "    return 0.5 * mx.mean(mx.square(X @ w - y))\n",
    "\n",
    "grad_fn = mx.grad(loss_fn)"
   ]
  },
  {
   "cell_type": "code",
   "execution_count": 9,
   "metadata": {},
   "outputs": [],
   "source": [
    "w = 1e-2 * mx.random.normal((num_features,))\n",
    "\n",
    "for _ in range(num_iters):\n",
    "    grad = grad_fn(w)\n",
    "    w = w - lr * grad\n",
    "    mx.eval(w)"
   ]
  },
  {
   "cell_type": "code",
   "execution_count": 10,
   "metadata": {},
   "outputs": [
    {
     "name": "stdout",
     "output_type": "stream",
     "text": [
      "Loss 0.00005, |w-w*| = 0.00309, \n"
     ]
    }
   ],
   "source": [
    "loss = loss_fn(w)\n",
    "error_norm = mx.sum(mx.square(w - w_star)).item() ** 0.5\n",
    "\n",
    "print(\n",
    "    f\"Loss {loss.item():.5f}, |w-w*| = {error_norm:.5f}, \"\n",
    ")"
   ]
  }
 ],
 "metadata": {
  "kernelspec": {
   "display_name": "mlx_tutorials",
   "language": "python",
   "name": "python3"
  },
  "language_info": {
   "codemirror_mode": {
    "name": "ipython",
    "version": 3
   },
   "file_extension": ".py",
   "mimetype": "text/x-python",
   "name": "python",
   "nbconvert_exporter": "python",
   "pygments_lexer": "ipython3",
   "version": "3.11.11"
  }
 },
 "nbformat": 4,
 "nbformat_minor": 2
}
