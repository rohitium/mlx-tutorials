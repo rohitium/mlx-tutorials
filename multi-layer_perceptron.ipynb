{
 "cells": [
  {
   "cell_type": "markdown",
   "metadata": {},
   "source": [
    "### Multi-layer Perceptron\n",
    "\n",
    "[Link to MLX Tutorial](https://ml-explore.github.io/mlx/build/html/examples/mlp.html)"
   ]
  },
  {
   "cell_type": "code",
   "execution_count": 1,
   "metadata": {},
   "outputs": [],
   "source": [
    "import mlx.core as mx\n",
    "import mlx.nn as nn\n",
    "import mlx.optimizers as optim\n",
    "\n",
    "import numpy as np"
   ]
  },
  {
   "cell_type": "code",
   "execution_count": 2,
   "metadata": {},
   "outputs": [],
   "source": [
    "class MLP(nn.Module):\n",
    "    def __init__(\n",
    "        self, num_layers: int, input_dim: int, hidden_dim: int, output_dim: int\n",
    "    ):\n",
    "        super().__init__()\n",
    "        layer_sizes = [input_dim] + [hidden_dim] * num_layers + [output_dim]\n",
    "        self.layers = [\n",
    "            nn.Linear(idim, odim)\n",
    "            for idim, odim in zip(layer_sizes[:-1], layer_sizes[1:])\n",
    "        ]\n",
    "\n",
    "    def __call__(self, x):\n",
    "        for l in self.layers[:-1]:\n",
    "            x = mx.maximum(l(x), 0.0)\n",
    "        return self.layers[-1](x)"
   ]
  },
  {
   "cell_type": "code",
   "execution_count": 3,
   "metadata": {},
   "outputs": [],
   "source": [
    "def loss_fn(model, X, y):\n",
    "    return mx.mean(nn.losses.cross_entropy(model(X), y))"
   ]
  },
  {
   "cell_type": "code",
   "execution_count": 4,
   "metadata": {},
   "outputs": [],
   "source": [
    "def eval_fn(model, X, y):\n",
    "    return mx.mean(mx.argmax(model(X), axis=1) == y)"
   ]
  },
  {
   "cell_type": "code",
   "execution_count": 6,
   "metadata": {},
   "outputs": [],
   "source": [
    "# Copyright © 2023 Apple Inc.\n",
    "\n",
    "import gzip\n",
    "import os\n",
    "import pickle\n",
    "from urllib import request\n",
    "\n",
    "import numpy as np\n",
    "\n",
    "\n",
    "def mnist(\n",
    "    save_dir=\"/tmp\",\n",
    "    base_url=\"https://raw.githubusercontent.com/fgnt/mnist/master/\",\n",
    "    filename=\"mnist.pkl\",\n",
    "):\n",
    "    \"\"\"\n",
    "    Load the MNIST dataset in 4 tensors: train images, train labels,\n",
    "    test images, and test labels.\n",
    "\n",
    "    Checks `save_dir` for already downloaded data otherwise downloads.\n",
    "\n",
    "    Download code modified from:\n",
    "      https://github.com/hsjeong5/MNIST-for-Numpy\n",
    "    \"\"\"\n",
    "\n",
    "    def download_and_save(save_file):\n",
    "        filename = [\n",
    "            [\"training_images\", \"train-images-idx3-ubyte.gz\"],\n",
    "            [\"test_images\", \"t10k-images-idx3-ubyte.gz\"],\n",
    "            [\"training_labels\", \"train-labels-idx1-ubyte.gz\"],\n",
    "            [\"test_labels\", \"t10k-labels-idx1-ubyte.gz\"],\n",
    "        ]\n",
    "\n",
    "        mnist = {}\n",
    "        for name in filename:\n",
    "            out_file = os.path.join(\"/tmp\", name[1])\n",
    "            request.urlretrieve(base_url + name[1], out_file)\n",
    "        for name in filename[:2]:\n",
    "            out_file = os.path.join(\"/tmp\", name[1])\n",
    "            with gzip.open(out_file, \"rb\") as f:\n",
    "                mnist[name[0]] = np.frombuffer(f.read(), np.uint8, offset=16).reshape(\n",
    "                    -1, 28 * 28\n",
    "                )\n",
    "        for name in filename[-2:]:\n",
    "            out_file = os.path.join(\"/tmp\", name[1])\n",
    "            with gzip.open(out_file, \"rb\") as f:\n",
    "                mnist[name[0]] = np.frombuffer(f.read(), np.uint8, offset=8)\n",
    "        with open(save_file, \"wb\") as f:\n",
    "            pickle.dump(mnist, f)\n",
    "\n",
    "    save_file = os.path.join(save_dir, filename)\n",
    "    if not os.path.exists(save_file):\n",
    "        download_and_save(save_file)\n",
    "    with open(save_file, \"rb\") as f:\n",
    "        mnist = pickle.load(f)\n",
    "\n",
    "    def preproc(x):\n",
    "        return x.astype(np.float32) / 255.0\n",
    "\n",
    "    mnist[\"training_images\"] = preproc(mnist[\"training_images\"])\n",
    "    mnist[\"test_images\"] = preproc(mnist[\"test_images\"])\n",
    "    return (\n",
    "        mnist[\"training_images\"],\n",
    "        mnist[\"training_labels\"].astype(np.uint32),\n",
    "        mnist[\"test_images\"],\n",
    "        mnist[\"test_labels\"].astype(np.uint32),\n",
    "    )"
   ]
  },
  {
   "cell_type": "code",
   "execution_count": 7,
   "metadata": {},
   "outputs": [],
   "source": [
    "num_layers = 2\n",
    "hidden_dim = 32\n",
    "num_classes = 10\n",
    "batch_size = 256\n",
    "num_epochs = 10\n",
    "learning_rate = 1e-1\n",
    "\n",
    "# Load the data\n",
    "train_images, train_labels, test_images, test_labels = map(\n",
    "    mx.array, mnist()\n",
    ")"
   ]
  },
  {
   "cell_type": "code",
   "execution_count": 8,
   "metadata": {},
   "outputs": [],
   "source": [
    "def batch_iterate(batch_size, X, y):\n",
    "    perm = mx.array(np.random.permutation(y.size))\n",
    "    for s in range(0, y.size, batch_size):\n",
    "        ids = perm[s : s + batch_size]\n",
    "        yield X[ids], y[ids]"
   ]
  },
  {
   "cell_type": "code",
   "execution_count": 9,
   "metadata": {},
   "outputs": [
    {
     "name": "stdout",
     "output_type": "stream",
     "text": [
      "Epoch 0: Test accuracy 0.866\n",
      "Epoch 1: Test accuracy 0.910\n",
      "Epoch 2: Test accuracy 0.919\n",
      "Epoch 3: Test accuracy 0.921\n",
      "Epoch 4: Test accuracy 0.936\n",
      "Epoch 5: Test accuracy 0.937\n",
      "Epoch 6: Test accuracy 0.941\n",
      "Epoch 7: Test accuracy 0.946\n",
      "Epoch 8: Test accuracy 0.944\n",
      "Epoch 9: Test accuracy 0.949\n"
     ]
    }
   ],
   "source": [
    "# Load the model\n",
    "model = MLP(num_layers, train_images.shape[-1], hidden_dim, num_classes)\n",
    "mx.eval(model.parameters())\n",
    "\n",
    "# Get a function which gives the loss and gradient of the\n",
    "# loss with respect to the model's trainable parameters\n",
    "loss_and_grad_fn = nn.value_and_grad(model, loss_fn)\n",
    "\n",
    "# Instantiate the optimizer\n",
    "optimizer = optim.SGD(learning_rate=learning_rate)\n",
    "\n",
    "for e in range(num_epochs):\n",
    "    for X, y in batch_iterate(batch_size, train_images, train_labels):\n",
    "        loss, grads = loss_and_grad_fn(model, X, y)\n",
    "\n",
    "        # Update the optimizer state and model parameters\n",
    "        # in a single call\n",
    "        optimizer.update(model, grads)\n",
    "\n",
    "        # Force a graph evaluation\n",
    "        mx.eval(model.parameters(), optimizer.state)\n",
    "\n",
    "    accuracy = eval_fn(model, test_images, test_labels)\n",
    "    print(f\"Epoch {e}: Test accuracy {accuracy.item():.3f}\")"
   ]
  }
 ],
 "metadata": {
  "kernelspec": {
   "display_name": "mlx_tutorials",
   "language": "python",
   "name": "python3"
  },
  "language_info": {
   "codemirror_mode": {
    "name": "ipython",
    "version": 3
   },
   "file_extension": ".py",
   "mimetype": "text/x-python",
   "name": "python",
   "nbconvert_exporter": "python",
   "pygments_lexer": "ipython3",
   "version": "3.11.11"
  }
 },
 "nbformat": 4,
 "nbformat_minor": 2
}
